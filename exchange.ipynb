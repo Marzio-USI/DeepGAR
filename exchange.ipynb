{
 "cells": [
  {
   "cell_type": "code",
   "execution_count": 1,
   "metadata": {
    "ExecuteTime": {
     "end_time": "2023-05-12T14:19:14.510122Z",
     "start_time": "2023-05-12T14:19:12.270936Z"
    }
   },
   "outputs": [],
   "source": [
    "from datamodule.datamodule import *\n",
    "from distributions.distributions import *\n",
    "from utils import *\n",
    "# MODEL:\n",
    "from model.deepGARv1 import DeepGAR\n",
    "# PYTORCH LIGHTNING:\n",
    "import pytorch_lightning as pl\n",
    "import torch\n",
    "from pytorch_lightning.callbacks import ModelCheckpoint, EarlyStopping\n",
    "#"
   ]
  },
  {
   "attachments": {},
   "cell_type": "markdown",
   "metadata": {},
   "source": [
    "# Dataset\n",
    "- you have to specify each param of the dataset"
   ]
  },
  {
   "cell_type": "code",
   "execution_count": 2,
   "metadata": {
    "ExecuteTime": {
     "end_time": "2023-05-12T14:19:19.213941Z",
     "start_time": "2023-05-12T14:19:19.150893Z"
    }
   },
   "outputs": [],
   "source": [
    "name = 'exchange'  # electric\n",
    "train_size = 0.7\n",
    "validation_size = 0.15\n",
    "test_size = 0.15\n",
    "custom_datamodule = DataModule(name, (train_size, validation_size, test_size))"
   ]
  },
  {
   "cell_type": "code",
   "execution_count": 3,
   "metadata": {
    "ExecuteTime": {
     "end_time": "2023-05-12T14:19:20.774522Z",
     "start_time": "2023-05-12T14:19:20.307464Z"
    }
   },
   "outputs": [
    {
     "name": "stdout",
     "output_type": "stream",
     "text": [
      "Train (5067, 8), val (1382, 8), test (1139, 8). ORIGINAL (7588, 8)\n"
     ]
    }
   ],
   "source": [
    "train_window = 24\n",
    "test_window = 24\n",
    "test_horizon = 8\n",
    "test_stride = 8  # should be equal to the time horizon\n",
    "test_delay = 0\n",
    "train_loader, val_loader, test_loader = custom_datamodule.get_all(\n",
    "    window=train_window,\n",
    "    test_window=test_window,\n",
    "    test_horizon=test_horizon,\n",
    "    test_stride=test_stride,\n",
    "    test_delay=test_delay\n",
    ")"
   ]
  },
  {
   "cell_type": "code",
   "execution_count": 4,
   "metadata": {
    "ExecuteTime": {
     "end_time": "2023-05-12T14:19:24.996042Z",
     "start_time": "2023-05-12T14:19:24.988152Z"
    }
   },
   "outputs": [],
   "source": [
    "input_size = custom_datamodule.get_channels()\n",
    "n_nodes = custom_datamodule.get_number_of_nodes()\n",
    "\n",
    "distribution = GaussianDistribution()  # or StudentTDistribution()"
   ]
  },
  {
   "cell_type": "code",
   "execution_count": 5,
   "metadata": {},
   "outputs": [
    {
     "name": "stderr",
     "output_type": "stream",
     "text": [
      "GPU available: True (mps), used: False\n",
      "TPU available: False, using: 0 TPU cores\n",
      "IPU available: False, using: 0 IPUs\n",
      "HPU available: False, using: 0 HPUs\n"
     ]
    },
    {
     "name": "stdout",
     "output_type": "stream",
     "text": [
      "DeepGAR(\n",
      "  (train_loss_fn): NLL()\n",
      "  (test_loss_fn): RMSE_paper()\n",
      "  (distribution_sigma): Softplus(beta=1, threshold=20)\n",
      "  (encoder): Linear(in_features=1, out_features=32, bias=True)\n",
      "  (node_embeddings): NodeEmbedding(n_nodes=8, embedding_size=32)\n",
      "  (time): MultiLSTMCell(hidden_size=32)\n",
      "  (space_time): GraphConvLSTMCell(hidden_size=32)\n",
      "  (distribution_mu): Linear(in_features=32, out_features=1, bias=True)\n",
      "  (distribution_presigma): Linear(in_features=32, out_features=1, bias=True)\n",
      ")\n",
      "===============================================\n",
      "Number of model (DeepGAR) parameters:     83458\n"
     ]
    },
    {
     "name": "stderr",
     "output_type": "stream",
     "text": [
      "/Users/marziolunghi/Documents/GitHub/DeepGAR/venv/lib/python3.11/site-packages/pytorch_lightning/trainer/setup.py:200: UserWarning: MPS available but not used. Set `accelerator` and `devices` using `Trainer(accelerator='mps', devices=1)`.\n",
      "  rank_zero_warn(\n"
     ]
    }
   ],
   "source": [
    "model = DeepGAR(\n",
    "        input_size=input_size,\n",
    "        n_nodes=n_nodes,\n",
    "        distribution=distribution,\n",
    "        learning_rate=0.001\n",
    ")\n",
    "print(model)\n",
    "print_model_size(model)\n",
    "\n",
    "early_stopping_callback = EarlyStopping(\n",
    "        monitor='val_loss',\n",
    "        min_delta=0.00,\n",
    "        patience=20,\n",
    "        mode='min'\n",
    "    )\n",
    "checkpoint_callback = ModelCheckpoint(\n",
    "        dirpath=f'exchange_logs',\n",
    "        save_top_k=1,\n",
    "        monitor='val_loss',\n",
    "        mode='min',\n",
    "    )\n",
    "trainer = pl.Trainer(\n",
    "        max_epochs=1000,\n",
    "        accelerator='cuda' if torch.cuda.is_available() else 'cpu',\n",
    "        devices = 1,\n",
    "        callbacks=[checkpoint_callback, early_stopping_callback],\n",
    "        log_every_n_steps=100,\n",
    "    )"
   ]
  },
  {
   "cell_type": "code",
   "execution_count": 6,
   "metadata": {},
   "outputs": [
    {
     "name": "stderr",
     "output_type": "stream",
     "text": [
      "\n",
      "  | Name                  | Type              | Params\n",
      "------------------------------------------------------------\n",
      "0 | train_loss_fn         | NLL               | 0     \n",
      "1 | test_loss_fn          | RMSE_paper        | 0     \n",
      "2 | distribution_sigma    | Softplus          | 0     \n",
      "3 | encoder               | Linear            | 64    \n",
      "4 | node_embeddings       | NodeEmbedding     | 256   \n",
      "5 | time                  | MultiLSTMCell     | 66.6 K\n",
      "6 | space_time            | GraphConvLSTMCell | 16.5 K\n",
      "7 | distribution_mu       | Linear            | 33    \n",
      "8 | distribution_presigma | Linear            | 33    \n",
      "------------------------------------------------------------\n",
      "83.5 K    Trainable params\n",
      "0         Non-trainable params\n",
      "83.5 K    Total params\n",
      "0.334     Total estimated model params size (MB)\n"
     ]
    },
    {
     "data": {
      "application/vnd.jupyter.widget-view+json": {
       "model_id": "45ec6f34d8ae4806a1815fcc9d83a87e",
       "version_major": 2,
       "version_minor": 0
      },
      "text/plain": [
       "Sanity Checking: 0it [00:00, ?it/s]"
      ]
     },
     "metadata": {},
     "output_type": "display_data"
    },
    {
     "data": {
      "application/vnd.jupyter.widget-view+json": {
       "model_id": "9fba641fd2e04f1ab2d68cbfc8d4acb7",
       "version_major": 2,
       "version_minor": 0
      },
      "text/plain": [
       "Training: 0it [00:00, ?it/s]"
      ]
     },
     "metadata": {},
     "output_type": "display_data"
    },
    {
     "data": {
      "application/vnd.jupyter.widget-view+json": {
       "model_id": "e6e443d925854e17b5bb8eb9d2a28940",
       "version_major": 2,
       "version_minor": 0
      },
      "text/plain": [
       "Validation: 0it [00:00, ?it/s]"
      ]
     },
     "metadata": {},
     "output_type": "display_data"
    },
    {
     "data": {
      "application/vnd.jupyter.widget-view+json": {
       "model_id": "51ec8f5724fd450899d610e6b6f310c9",
       "version_major": 2,
       "version_minor": 0
      },
      "text/plain": [
       "Validation: 0it [00:00, ?it/s]"
      ]
     },
     "metadata": {},
     "output_type": "display_data"
    },
    {
     "data": {
      "application/vnd.jupyter.widget-view+json": {
       "model_id": "80071c41eb32430c9129b11fa16d1203",
       "version_major": 2,
       "version_minor": 0
      },
      "text/plain": [
       "Validation: 0it [00:00, ?it/s]"
      ]
     },
     "metadata": {},
     "output_type": "display_data"
    },
    {
     "data": {
      "application/vnd.jupyter.widget-view+json": {
       "model_id": "2919bebe25ad4dd5a45ce23b2c19ccfb",
       "version_major": 2,
       "version_minor": 0
      },
      "text/plain": [
       "Validation: 0it [00:00, ?it/s]"
      ]
     },
     "metadata": {},
     "output_type": "display_data"
    },
    {
     "data": {
      "application/vnd.jupyter.widget-view+json": {
       "model_id": "bc6f5ad39546443c8a64cc36baf87423",
       "version_major": 2,
       "version_minor": 0
      },
      "text/plain": [
       "Validation: 0it [00:00, ?it/s]"
      ]
     },
     "metadata": {},
     "output_type": "display_data"
    },
    {
     "data": {
      "application/vnd.jupyter.widget-view+json": {
       "model_id": "d4ab5dff3750407a84f3d6be10b93392",
       "version_major": 2,
       "version_minor": 0
      },
      "text/plain": [
       "Validation: 0it [00:00, ?it/s]"
      ]
     },
     "metadata": {},
     "output_type": "display_data"
    },
    {
     "data": {
      "application/vnd.jupyter.widget-view+json": {
       "model_id": "07a01a4475d94c40bd07c78a294dfeaf",
       "version_major": 2,
       "version_minor": 0
      },
      "text/plain": [
       "Validation: 0it [00:00, ?it/s]"
      ]
     },
     "metadata": {},
     "output_type": "display_data"
    },
    {
     "data": {
      "application/vnd.jupyter.widget-view+json": {
       "model_id": "a000b9ba53e149c594b50dfe6703cefe",
       "version_major": 2,
       "version_minor": 0
      },
      "text/plain": [
       "Validation: 0it [00:00, ?it/s]"
      ]
     },
     "metadata": {},
     "output_type": "display_data"
    }
   ],
   "source": [
    "trainer.fit(model, train_dataloaders=train_loader, val_dataloaders=val_loader)"
   ]
  },
  {
   "cell_type": "code",
   "execution_count": null,
   "metadata": {},
   "outputs": [],
   "source": [
    "best_model_path = checkpoint_callback.best_model_path\n",
    "\n",
    "best_model = DeepGAR.load_from_checkpoint(\n",
    "    checkpoint_path=best_model_path\n",
    ")\n",
    "best_model.eval()\n",
    "res = trainer.predict(model=best_model, dataloaders=test_loader)"
   ]
  },
  {
   "cell_type": "code",
   "execution_count": null,
   "metadata": {},
   "outputs": [],
   "source": [
    "draw(res)"
   ]
  }
 ],
 "metadata": {
  "kernelspec": {
   "display_name": "Python 3 (ipykernel)",
   "language": "python",
   "name": "python3"
  },
  "language_info": {
   "codemirror_mode": {
    "name": "ipython",
    "version": 3
   },
   "file_extension": ".py",
   "mimetype": "text/x-python",
   "name": "python",
   "nbconvert_exporter": "python",
   "pygments_lexer": "ipython3",
   "version": "3.11.3"
  }
 },
 "nbformat": 4,
 "nbformat_minor": 1
}
