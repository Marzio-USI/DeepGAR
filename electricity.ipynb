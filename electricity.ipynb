{
 "cells": [
  {
   "cell_type": "code",
   "execution_count": 1,
   "metadata": {
    "is_executing": true,
    "tags": []
   },
   "outputs": [
    {
     "name": "stderr",
     "output_type": "stream",
     "text": [
      "/usr/lib/python3/dist-packages/pkg_resources/__init__.py:116: PkgResourcesDeprecationWarning: 1.16.0-unknown is an invalid version and will not be supported in a future release\n",
      "  warnings.warn(\n",
      "/usr/lib/python3/dist-packages/pkg_resources/__init__.py:116: PkgResourcesDeprecationWarning: 1.1build1 is an invalid version and will not be supported in a future release\n",
      "  warnings.warn(\n",
      "/usr/lib/python3/dist-packages/pkg_resources/__init__.py:116: PkgResourcesDeprecationWarning: 0.1.43ubuntu1 is an invalid version and will not be supported in a future release\n",
      "  warnings.warn(\n"
     ]
    }
   ],
   "source": [
    "from datamodule.datamodule import *\n",
    "from distributions.distributions import *\n",
    "from utils import *\n",
    "# MODEL:\n",
    "from model.deepGARv1 import DeepGAR\n",
    "# PYTORCH LIGHTNING:\n",
    "import pytorch_lightning as pl\n",
    "import torch\n",
    "from pytorch_lightning.callbacks import ModelCheckpoint, EarlyStopping\n",
    "#"
   ]
  },
  {
   "cell_type": "code",
   "execution_count": 2,
   "metadata": {
    "ExecuteTime": {
     "end_time": "2023-05-12T19:16:19.835204Z",
     "start_time": "2023-05-12T19:15:59.300869Z"
    },
    "collapsed": false,
    "jupyter": {
     "outputs_hidden": false
    },
    "tags": []
   },
   "outputs": [],
   "source": [
    "\n",
    "name = 'electric'  # electric\n",
    "train_size = 0.7\n",
    "validation_size = 0.15\n",
    "test_size = 0.15\n",
    "batch_size = 32\n",
    "custom_datamodule = DataModule(name, (train_size, validation_size, test_size), batch_size=batch_size)"
   ]
  },
  {
   "cell_type": "code",
   "execution_count": 3,
   "metadata": {
    "ExecuteTime": {
     "end_time": "2023-05-12T19:16:20.702737Z",
     "start_time": "2023-05-12T19:16:19.835812Z"
    },
    "collapsed": false,
    "jupyter": {
     "outputs_hidden": false
    },
    "tags": []
   },
   "outputs": [
    {
     "name": "stdout",
     "output_type": "stream",
     "text": [
      "Train (5249, 370), val (584, 370), test (192, 370). ORIGINAL (6025, 370)\n"
     ]
    }
   ],
   "source": [
    "train_window = 24\n",
    "test_window = 24\n",
    "test_horizon = 24\n",
    "test_stride = 24 # should be equal to the time horizon\n",
    "test_delay = 0\n",
    "train_loader, val_loader, test_loader = custom_datamodule.get_all(\n",
    "    window=train_window,\n",
    "    test_window=test_window,\n",
    "    test_horizon=test_horizon,\n",
    "    test_stride=test_stride,\n",
    "    test_delay=test_delay\n",
    ")"
   ]
  },
  {
   "cell_type": "code",
   "execution_count": 4,
   "metadata": {
    "collapsed": false,
    "jupyter": {
     "outputs_hidden": false
    },
    "tags": []
   },
   "outputs": [],
   "source": [
    "input_size = custom_datamodule.get_channels()\n",
    "n_nodes = custom_datamodule.get_number_of_nodes()\n",
    "\n",
    "distribution = GaussianDistribution()  # or StudentTDistribution()\n",
    "\n",
    "test_loss = 'rmse'  # or 'mae'\n",
    "\n",
    "perform_scaling = False"
   ]
  },
  {
   "cell_type": "code",
   "execution_count": 5,
   "metadata": {
    "collapsed": false,
    "jupyter": {
     "outputs_hidden": false
    },
    "tags": []
   },
   "outputs": [],
   "source": [
    "\n",
    "def run_model(run, train=False, testing=True, checkpoint_callback_path:str=None):\n",
    "   \n",
    "    model = DeepGAR(\n",
    "        input_size=input_size,\n",
    "        n_nodes=n_nodes,\n",
    "        distribution=distribution,\n",
    "        perform_scaling=perform_scaling\n",
    "    )\n",
    "    print(model)\n",
    "    print_model_size(model)\n",
    "\n",
    "    early_stopping_callback = EarlyStopping(\n",
    "        monitor='val_loss',\n",
    "        min_delta=0.00,\n",
    "        patience=20,\n",
    "        mode='min'\n",
    "    )\n",
    "    checkpoint_callback = ModelCheckpoint(\n",
    "        dirpath=f'electricity_logs_{run}',\n",
    "        save_top_k=1,\n",
    "        monitor='val_loss',\n",
    "        mode='min',\n",
    "    )\n",
    "    trainer = pl.Trainer(\n",
    "        max_epochs=1000,\n",
    "        accelerator='cuda' if torch.cuda.is_available() else 'cpu',\n",
    "        devices = 1,\n",
    "        callbacks=[checkpoint_callback, early_stopping_callback]\n",
    "    )\n",
    "    if train:\n",
    "        trainer.fit(model=model, train_dataloaders=train_loader, val_dataloaders=val_loader)\n",
    "    # delete all\n",
    "    if testing:\n",
    "        best_model_path = checkpoint_callback.best_model_path\n",
    "        if len(best_model_path) < 1 and checkpoint_callback_path is None:\n",
    "            raise RuntimeError(f'failed to locate best model checkpoint path. Stopping at run {run}')\n",
    "        elif len(best_model_path) < 1:\n",
    "            best_model_path= checkpoint_callback_path\n",
    "        best_model = DeepGAR.load_from_checkpoint(\n",
    "        checkpoint_path=best_model_path\n",
    "        )\n",
    "        print(f'Using checkpoint {best_model_path}')\n",
    "        best_model.eval()\n",
    "        res = trainer.predict(model=best_model, dataloaders=test_loader)\n",
    "        rmse_loss, nd_loss = get_metrics(res, horizon=test_horizon, n_nodes=n_nodes)\n",
    "        print(f'Run {run} on {name}: RMSE: {rmse_loss}, ND: {nd_loss}')\n",
    "        add_metrics(name, rmse_loss, nd_loss)\n",
    "\n",
    "    \n",
    "    try:\n",
    "        del model\n",
    "        del early_stopping_callback\n",
    "        del checkpoint_callback\n",
    "        del trainer\n",
    "        if testing:\n",
    "            del best_model\n",
    "    except:\n",
    "        pass\n",
    "    return res\n",
    "    \n",
    "\n",
    "\n",
    "# list_available_models()"
   ]
  },
  {
   "cell_type": "code",
   "execution_count": null,
   "metadata": {
    "collapsed": false,
    "jupyter": {
     "outputs_hidden": false
    },
    "tags": []
   },
   "outputs": [
    {
     "name": "stderr",
     "output_type": "stream",
     "text": [
      "GPU available: True (cuda), used: True\n",
      "TPU available: False, using: 0 TPU cores\n",
      "IPU available: False, using: 0 IPUs\n",
      "HPU available: False, using: 0 HPUs\n"
     ]
    },
    {
     "name": "stdout",
     "output_type": "stream",
     "text": [
      "DeepGAR(\n",
      "  (train_loss_fn): NLL()\n",
      "  (test_loss_fn): RMSE_paper()\n",
      "  (distribution_sigma): Softplus(beta=1, threshold=20)\n",
      "  (encoder): Linear(in_features=1, out_features=32, bias=True)\n",
      "  (node_embeddings): NodeEmbedding(n_nodes=370, embedding_size=32)\n",
      "  (time): MultiLSTMCell(hidden_size=32)\n",
      "  (space_time): GraphConvLSTMCell(hidden_size=32)\n",
      "  (distribution_mu): Linear(in_features=32, out_features=1, bias=True)\n",
      "  (distribution_presigma): Linear(in_features=32, out_features=1, bias=True)\n",
      ")\n",
      "===============================================\n",
      "Number of model (DeepGAR) parameters:   3106882\n"
     ]
    },
    {
     "name": "stderr",
     "output_type": "stream",
     "text": [
      "LOCAL_RANK: 0 - CUDA_VISIBLE_DEVICES: [0,1]\n",
      "\n",
      "  | Name                  | Type              | Params\n",
      "------------------------------------------------------------\n",
      "0 | train_loss_fn         | NLL               | 0     \n",
      "1 | test_loss_fn          | RMSE_paper        | 0     \n",
      "2 | distribution_sigma    | Softplus          | 0     \n",
      "3 | encoder               | Linear            | 64    \n",
      "4 | node_embeddings       | NodeEmbedding     | 11.8 K\n",
      "5 | time                  | MultiLSTMCell     | 3.1 M \n",
      "6 | space_time            | GraphConvLSTMCell | 16.5 K\n",
      "7 | distribution_mu       | Linear            | 33    \n",
      "8 | distribution_presigma | Linear            | 33    \n",
      "------------------------------------------------------------\n",
      "3.1 M     Trainable params\n",
      "0         Non-trainable params\n",
      "3.1 M     Total params\n",
      "12.428    Total estimated model params size (MB)\n"
     ]
    },
    {
     "name": "stdout",
     "output_type": "stream",
     "text": [
      "Epoch 0:  90%|█████████████████████████████████████████████     | 164/182 [00:09<00:01, 17.59it/s, loss=2.73e+09, v_num=53, rmse_step=0.340]\n",
      "Validation: 0it [00:00, ?it/s]\u001B[A\n",
      "Validation:   0%|                                                                                                    | 0/18 [00:00<?, ?it/s]\u001B[A\n",
      "Validation DataLoader 0:   0%|                                                                                       | 0/18 [00:00<?, ?it/s]\u001B[A\n",
      "Epoch 0:  91%|█████████████████████████████████████████████▎    | 165/182 [00:09<00:00, 17.08it/s, loss=2.73e+09, v_num=53, rmse_step=0.340]\u001B[A\n",
      "Epoch 0:  91%|█████████████████████████████████████████████▌    | 166/182 [00:09<00:00, 17.14it/s, loss=2.73e+09, v_num=53, rmse_step=0.340]\u001B[A\n",
      "Epoch 0:  92%|█████████████████████████████████████████████▉    | 167/182 [00:09<00:00, 17.20it/s, loss=2.73e+09, v_num=53, rmse_step=0.340]\u001B[A\n",
      "Epoch 0:  92%|██████████████████████████████████████████████▏   | 168/182 [00:09<00:00, 17.26it/s, loss=2.73e+09, v_num=53, rmse_step=0.340]\u001B[A\n",
      "Epoch 0:  93%|██████████████████████████████████████████████▍   | 169/182 [00:09<00:00, 17.33it/s, loss=2.73e+09, v_num=53, rmse_step=0.340]\u001B[A\n",
      "Epoch 0:  93%|██████████████████████████████████████████████▋   | 170/182 [00:09<00:00, 17.38it/s, loss=2.73e+09, v_num=53, rmse_step=0.340]\u001B[A\n",
      "Epoch 0:  94%|██████████████████████████████████████████████▉   | 171/182 [00:09<00:00, 17.44it/s, loss=2.73e+09, v_num=53, rmse_step=0.340]\u001B[A\n",
      "Epoch 0:  95%|███████████████████████████████████████████████▎  | 172/182 [00:09<00:00, 17.50it/s, loss=2.73e+09, v_num=53, rmse_step=0.340]\u001B[A\n",
      "Epoch 0:  95%|███████████████████████████████████████████████▌  | 173/182 [00:09<00:00, 17.56it/s, loss=2.73e+09, v_num=53, rmse_step=0.340]\u001B[A\n",
      "Epoch 0:  96%|███████████████████████████████████████████████▊  | 174/182 [00:09<00:00, 17.62it/s, loss=2.73e+09, v_num=53, rmse_step=0.340]\u001B[A\n",
      "Epoch 0:  96%|████████████████████████████████████████████████  | 175/182 [00:09<00:00, 17.68it/s, loss=2.73e+09, v_num=53, rmse_step=0.340]\u001B[A\n",
      "Epoch 0:  97%|████████████████████████████████████████████████▎ | 176/182 [00:09<00:00, 17.74it/s, loss=2.73e+09, v_num=53, rmse_step=0.340]\u001B[A\n",
      "Epoch 0:  97%|████████████████████████████████████████████████▋ | 177/182 [00:09<00:00, 17.80it/s, loss=2.73e+09, v_num=53, rmse_step=0.340]\u001B[A\n",
      "Epoch 0:  98%|████████████████████████████████████████████████▉ | 178/182 [00:09<00:00, 17.86it/s, loss=2.73e+09, v_num=53, rmse_step=0.340]\u001B[A\n",
      "Epoch 0:  98%|█████████████████████████████████████████████████▏| 179/182 [00:09<00:00, 17.91it/s, loss=2.73e+09, v_num=53, rmse_step=0.340]\u001B[A\n",
      "Epoch 0:  99%|█████████████████████████████████████████████████▍| 180/182 [00:10<00:00, 17.96it/s, loss=2.73e+09, v_num=53, rmse_step=0.340]\u001B[A\n",
      "Epoch 0:  99%|█████████████████████████████████████████████████▋| 181/182 [00:10<00:00, 18.02it/s, loss=2.73e+09, v_num=53, rmse_step=0.340]\u001B[A\n",
      "Epoch 0: 100%|████████████████| 182/182 [00:10<00:00, 18.08it/s, loss=2.73e+09, v_num=53, rmse_step=0.340, val_rmse=0.223, val_loss=7.57e+9]\u001B[A\n",
      "Epoch 1:  90%|▉| 164/182 [00:09<00:01, 17.23it/s, loss=7.72e+08, v_num=53, rmse_step=0.206, val_rmse=0.223, val_loss=7.57e+9, rmse_epoch=0.3\u001B[A\n",
      "Validation: 0it [00:00, ?it/s]\u001B[A\n",
      "Validation:   0%|                                                                                                    | 0/18 [00:00<?, ?it/s]\u001B[A\n",
      "Validation DataLoader 0:   0%|                                                                                       | 0/18 [00:00<?, ?it/s]\u001B[A\n",
      "Epoch 1:  91%|▉| 165/182 [00:09<00:01, 16.71it/s, loss=7.72e+08, v_num=53, rmse_step=0.206, val_rmse=0.223, val_loss=7.57e+9, rmse_epoch=0.3\u001B[A\n",
      "Epoch 1:  91%|▉| 166/182 [00:09<00:00, 16.75it/s, loss=7.72e+08, v_num=53, rmse_step=0.206, val_rmse=0.223, val_loss=7.57e+9, rmse_epoch=0.3\u001B[A\n",
      "Epoch 1:  92%|▉| 167/182 [00:09<00:00, 16.81it/s, loss=7.72e+08, v_num=53, rmse_step=0.206, val_rmse=0.223, val_loss=7.57e+9, rmse_epoch=0.3\u001B[A\n",
      "Epoch 1:  92%|▉| 168/182 [00:09<00:00, 16.87it/s, loss=7.72e+08, v_num=53, rmse_step=0.206, val_rmse=0.223, val_loss=7.57e+9, rmse_epoch=0.3\u001B[A\n",
      "Epoch 1:  93%|▉| 169/182 [00:09<00:00, 16.93it/s, loss=7.72e+08, v_num=53, rmse_step=0.206, val_rmse=0.223, val_loss=7.57e+9, rmse_epoch=0.3\u001B[A\n",
      "Epoch 1:  93%|▉| 170/182 [00:10<00:00, 16.99it/s, loss=7.72e+08, v_num=53, rmse_step=0.206, val_rmse=0.223, val_loss=7.57e+9, rmse_epoch=0.3\u001B[A\n",
      "Epoch 1:  94%|▉| 171/182 [00:10<00:00, 17.04it/s, loss=7.72e+08, v_num=53, rmse_step=0.206, val_rmse=0.223, val_loss=7.57e+9, rmse_epoch=0.3\u001B[A\n",
      "Epoch 1:  95%|▉| 172/182 [00:10<00:00, 17.10it/s, loss=7.72e+08, v_num=53, rmse_step=0.206, val_rmse=0.223, val_loss=7.57e+9, rmse_epoch=0.3\u001B[A\n",
      "Epoch 1:  95%|▉| 173/182 [00:10<00:00, 17.16it/s, loss=7.72e+08, v_num=53, rmse_step=0.206, val_rmse=0.223, val_loss=7.57e+9, rmse_epoch=0.3\u001B[A\n",
      "Epoch 1:  96%|▉| 174/182 [00:10<00:00, 17.21it/s, loss=7.72e+08, v_num=53, rmse_step=0.206, val_rmse=0.223, val_loss=7.57e+9, rmse_epoch=0.3\u001B[A\n",
      "Epoch 1:  96%|▉| 175/182 [00:10<00:00, 17.27it/s, loss=7.72e+08, v_num=53, rmse_step=0.206, val_rmse=0.223, val_loss=7.57e+9, rmse_epoch=0.3\u001B[A\n",
      "Epoch 1:  97%|▉| 176/182 [00:10<00:00, 17.33it/s, loss=7.72e+08, v_num=53, rmse_step=0.206, val_rmse=0.223, val_loss=7.57e+9, rmse_epoch=0.3\u001B[A\n",
      "Epoch 1:  97%|▉| 177/182 [00:10<00:00, 17.39it/s, loss=7.72e+08, v_num=53, rmse_step=0.206, val_rmse=0.223, val_loss=7.57e+9, rmse_epoch=0.3\u001B[A\n",
      "Epoch 1:  98%|▉| 178/182 [00:10<00:00, 17.45it/s, loss=7.72e+08, v_num=53, rmse_step=0.206, val_rmse=0.223, val_loss=7.57e+9, rmse_epoch=0.3\u001B[A\n",
      "Epoch 1:  98%|▉| 179/182 [00:10<00:00, 17.50it/s, loss=7.72e+08, v_num=53, rmse_step=0.206, val_rmse=0.223, val_loss=7.57e+9, rmse_epoch=0.3\u001B[A\n",
      "Epoch 1:  99%|▉| 180/182 [00:10<00:00, 17.56it/s, loss=7.72e+08, v_num=53, rmse_step=0.206, val_rmse=0.223, val_loss=7.57e+9, rmse_epoch=0.3\u001B[A\n",
      "Epoch 1:  99%|▉| 181/182 [00:10<00:00, 17.61it/s, loss=7.72e+08, v_num=53, rmse_step=0.206, val_rmse=0.223, val_loss=7.57e+9, rmse_epoch=0.3\u001B[A\n",
      "Epoch 1: 100%|█| 182/182 [00:10<00:00, 17.67it/s, loss=7.72e+08, v_num=53, rmse_step=0.206, val_rmse=0.154, val_loss=2.58e+9, rmse_epoch=0.3\u001B[A\n",
      "Epoch 2:  90%|▉| 164/182 [00:09<00:01, 17.07it/s, loss=5.27e+08, v_num=53, rmse_step=0.241, val_rmse=0.154, val_loss=2.58e+9, rmse_epoch=0.1\u001B[A\n",
      "Validation: 0it [00:00, ?it/s]\u001B[A"
     ]
    }
   ],
   "source": [
    "results = []\n",
    "train_n_times = 1\n",
    "for i in range(train_n_times):\n",
    "    res = run_model(i, train=True)\n",
    "    results.append(res)"
   ]
  },
  {
   "cell_type": "code",
   "execution_count": null,
   "metadata": {
    "tags": []
   },
   "outputs": [],
   "source": [
    "for i in range(0, 5):\n",
    "    draw_single(results[0], i, horizon=test_horizon, n_nodes=n_nodes)"
   ]
  },
  {
   "cell_type": "code",
   "execution_count": null,
   "metadata": {
    "tags": []
   },
   "outputs": [],
   "source": [
    "\n",
    "\n",
    "\n",
    "\n",
    "results = []\n",
    "train_n_times = 1\n",
    "for i in range(train_n_times):\n",
    "    res = run_model(i, train=False, checkpoint_callback_path='./elec_copy/electricity_logs_0/epoch=398-step=32718.ckpt')\n",
    "    results.append(res)"
   ]
  },
  {
   "cell_type": "code",
   "execution_count": null,
   "metadata": {
    "tags": []
   },
   "outputs": [],
   "source": [
    "for i in range(0, 5):\n",
    "    draw_single(results[0], i, horizon=test_horizon, n_nodes=n_nodes)"
   ]
  },
  {
   "cell_type": "code",
   "execution_count": null,
   "metadata": {},
   "outputs": [],
   "source": []
  }
 ],
 "metadata": {
  "kernelspec": {
   "display_name": "Python 3 (ipykernel)",
   "language": "python",
   "name": "python3"
  },
  "language_info": {
   "codemirror_mode": {
    "name": "ipython",
    "version": 3
   },
   "file_extension": ".py",
   "mimetype": "text/x-python",
   "name": "python",
   "nbconvert_exporter": "python",
   "pygments_lexer": "ipython3",
   "version": "3.10.6"
  }
 },
 "nbformat": 4,
 "nbformat_minor": 4
}
