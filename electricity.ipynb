{
 "cells": [
  {
   "cell_type": "code",
   "execution_count": 1,
   "metadata": {
    "collapsed": true,
    "is_executing": true
   },
   "outputs": [],
   "source": [
    "from datamodule.datamodule import *\n",
    "from distributions.distributions import *\n",
    "from utils import *\n",
    "# MODEL:\n",
    "from model.deepGARv1 import DeepGAR\n",
    "# PYTORCH LIGHTNING:\n",
    "import pytorch_lightning as pl\n",
    "import torch\n",
    "from pytorch_lightning.callbacks import ModelCheckpoint, EarlyStopping\n",
    "#"
   ]
  },
  {
   "cell_type": "code",
   "execution_count": 2,
   "metadata": {
    "ExecuteTime": {
     "end_time": "2023-05-12T19:16:19.835204Z",
     "start_time": "2023-05-12T19:15:59.300869Z"
    },
    "collapsed": false
   },
   "outputs": [
    {
     "name": "stderr",
     "output_type": "stream",
     "text": [
      "LD2011_2014.txt.zip: 261MB [00:31, 8.26MB/s]                               \n"
     ]
    }
   ],
   "source": [
    "\n",
    "name = 'electric'  # electric\n",
    "train_size = 0.7\n",
    "validation_size = 0.15\n",
    "test_size = 0.15\n",
    "batch_size = 64\n",
    "custom_datamodule = DataModule(name, (train_size, validation_size, test_size), batch_size=batch_size)"
   ]
  },
  {
   "cell_type": "code",
   "execution_count": 3,
   "metadata": {
    "ExecuteTime": {
     "end_time": "2023-05-12T19:16:20.702737Z",
     "start_time": "2023-05-12T19:16:19.835812Z"
    },
    "collapsed": false
   },
   "outputs": [],
   "source": [
    "train_window = 24\n",
    "test_window = 24\n",
    "test_horizon = 24\n",
    "test_stride = 24 # should be equal to the time horizon\n",
    "test_delay = 0\n",
    "train_loader, val_loader, test_loader = custom_datamodule.get_all(\n",
    "    window=train_window,\n",
    "    test_window=test_window,\n",
    "    test_horizon=test_horizon,\n",
    "    test_stride=test_stride,\n",
    "    test_delay=test_delay\n",
    ")"
   ]
  },
  {
   "cell_type": "code",
   "execution_count": 4,
   "metadata": {
    "collapsed": false
   },
   "outputs": [],
   "source": [
    "input_size = custom_datamodule.get_channels()\n",
    "n_nodes = custom_datamodule.get_number_of_nodes()\n",
    "\n",
    "distribution = GaussianDistribution()  # or StudentTDistribution()\n",
    "\n",
    "test_loss = 'rmse'  # or 'mae'\n",
    "\n",
    "perform_scaling = False"
   ]
  },
  {
   "cell_type": "code",
   "execution_count": 5,
   "metadata": {
    "collapsed": false
   },
   "outputs": [],
   "source": [
    "def run_model(run, train=False):\n",
    "\n",
    "    model = DeepGAR(\n",
    "        input_size=input_size,\n",
    "        n_nodes=n_nodes,\n",
    "        distribution=distribution,\n",
    "        test_loss=test_loss,\n",
    "        perform_scaling=perform_scaling\n",
    "    )\n",
    "    print(model)\n",
    "    print_model_size(model)\n",
    "\n",
    "    early_stopping_callback = EarlyStopping(\n",
    "        monitor='val_loss',\n",
    "        min_delta=0.00,\n",
    "        patience=20,\n",
    "        mode='min'\n",
    "    )\n",
    "    checkpoint_callback = ModelCheckpoint(\n",
    "        dirpath=f'electricity_logs_{run}',\n",
    "        save_top_k=1,\n",
    "        monitor='val_loss',\n",
    "        mode='min',\n",
    "    )\n",
    "    trainer = pl.Trainer(\n",
    "        max_epochs=400,\n",
    "        accelerator='cuda' if torch.cuda.is_available() else 'cpu',\n",
    "        devices = 1,\n",
    "        callbacks=[checkpoint_callback, early_stopping_callback]\n",
    "    )\n",
    "    if train:\n",
    "        trainer.fit(model=model, train_dataloaders=train_loader, val_dataloaders=val_loader)\n",
    "    # delete all\n",
    "    try:\n",
    "        del model\n",
    "        del early_stopping_callback\n",
    "        del checkpoint_callback\n",
    "        del trainer\n",
    "    except:\n",
    "        pass\n",
    "\n",
    "\n",
    "# list_available_models()"
   ]
  },
  {
   "cell_type": "code",
   "execution_count": 9,
   "metadata": {
    "collapsed": false
   },
   "outputs": [
    {
     "name": "stderr",
     "output_type": "stream",
     "text": [
      "GPU available: True (mps), used: False\n",
      "TPU available: False, using: 0 TPU cores\n",
      "IPU available: False, using: 0 IPUs\n",
      "HPU available: False, using: 0 HPUs\n",
      "/Users/marziolunghi/Documents/GitHub/DeepGAR/venv/lib/python3.11/site-packages/pytorch_lightning/trainer/setup.py:200: UserWarning: MPS available but not used. Set `accelerator` and `devices` using `Trainer(accelerator='mps', devices=1)`.\n",
      "  rank_zero_warn(\n",
      "\n",
      "  | Name                  | Type              | Params\n",
      "------------------------------------------------------------\n",
      "0 | train_loss_fn         | NLL               | 0     \n",
      "1 | test_loss_fn          | RMSE              | 0     \n",
      "2 | distribution_sigma    | Softplus          | 0     \n",
      "3 | encoder               | Linear            | 64    \n",
      "4 | node_embeddings       | NodeEmbedding     | 11.8 K\n",
      "5 | time                  | MultiLSTMCell     | 3.1 M \n",
      "6 | space_time            | GraphConvLSTMCell | 16.5 K\n",
      "7 | distribution_mu       | Linear            | 33    \n",
      "8 | distribution_presigma | Linear            | 33    \n",
      "------------------------------------------------------------\n",
      "3.1 M     Trainable params\n",
      "0         Non-trainable params\n",
      "3.1 M     Total params\n",
      "12.428    Total estimated model params size (MB)\n"
     ]
    },
    {
     "name": "stdout",
     "output_type": "stream",
     "text": [
      "DeepGAR(\n",
      "  (train_loss_fn): NLL()\n",
      "  (test_loss_fn): RMSE()\n",
      "  (distribution_sigma): Softplus(beta=1, threshold=20)\n",
      "  (encoder): Linear(in_features=1, out_features=32, bias=True)\n",
      "  (node_embeddings): NodeEmbedding(n_nodes=370, embedding_size=32)\n",
      "  (time): MultiLSTMCell(hidden_size=32)\n",
      "  (space_time): GraphConvLSTMCell(hidden_size=32)\n",
      "  (distribution_mu): Linear(in_features=32, out_features=1, bias=True)\n",
      "  (distribution_presigma): Linear(in_features=32, out_features=1, bias=True)\n",
      ")\n",
      "===============================================\n",
      "Number of model (DeepGAR) parameters:   3106882\n"
     ]
    },
    {
     "data": {
      "application/vnd.jupyter.widget-view+json": {
       "model_id": "9ac03aa2cae44dd18a70a323858da1b9",
       "version_major": 2,
       "version_minor": 0
      },
      "text/plain": [
       "Sanity Checking: 0it [00:00, ?it/s]"
      ]
     },
     "metadata": {},
     "output_type": "display_data"
    },
    {
     "data": {
      "application/vnd.jupyter.widget-view+json": {
       "model_id": "e1975dd9651c43758a55b09a948bcbf1",
       "version_major": 2,
       "version_minor": 0
      },
      "text/plain": [
       "Training: 0it [00:00, ?it/s]"
      ]
     },
     "metadata": {},
     "output_type": "display_data"
    },
    {
     "data": {
      "application/vnd.jupyter.widget-view+json": {
       "model_id": "1b92dac499184998b395a4f509e9a06d",
       "version_major": 2,
       "version_minor": 0
      },
      "text/plain": [
       "Validation: 0it [00:00, ?it/s]"
      ]
     },
     "metadata": {},
     "output_type": "display_data"
    },
    {
     "data": {
      "application/vnd.jupyter.widget-view+json": {
       "model_id": "30811e0b88ba4a65b22f3a4c46d802b1",
       "version_major": 2,
       "version_minor": 0
      },
      "text/plain": [
       "Validation: 0it [00:00, ?it/s]"
      ]
     },
     "metadata": {},
     "output_type": "display_data"
    },
    {
     "name": "stderr",
     "output_type": "stream",
     "text": [
      "/Users/marziolunghi/Documents/GitHub/DeepGAR/venv/lib/python3.11/site-packages/pytorch_lightning/trainer/call.py:48: UserWarning: Detected KeyboardInterrupt, attempting graceful shutdown...\n",
      "  rank_zero_warn(\"Detected KeyboardInterrupt, attempting graceful shutdown...\")\n"
     ]
    }
   ],
   "source": [
    "train_n_times=1\n",
    "for i in range(train_n_times):\n",
    "    run_model(i, train=True)"
   ]
  },
  {
   "cell_type": "code",
   "execution_count": 6,
   "metadata": {
    "collapsed": false
   },
   "outputs": [
    {
     "name": "stderr",
     "output_type": "stream",
     "text": [
      "GPU available: True (mps), used: False\n",
      "TPU available: False, using: 0 TPU cores\n",
      "IPU available: False, using: 0 IPUs\n",
      "HPU available: False, using: 0 HPUs\n",
      "/Users/marziolunghi/Documents/GitHub/DeepGAR/venv/lib/python3.11/site-packages/pytorch_lightning/trainer/setup.py:200: UserWarning: MPS available but not used. Set `accelerator` and `devices` using `Trainer(accelerator='mps', devices=1)`.\n",
      "  rank_zero_warn(\n"
     ]
    }
   ],
   "source": [
    "# TESTING\n",
    "early_stopping_callback = EarlyStopping(\n",
    "        monitor='val_loss',\n",
    "        min_delta=0.00,\n",
    "        patience=20,\n",
    "        mode='min'\n",
    "    )\n",
    "checkpoint_callback = ModelCheckpoint(\n",
    "        dirpath=f'electricity_logs_{0}',\n",
    "        save_top_k=1,\n",
    "        monitor='val_loss',\n",
    "        mode='min',\n",
    "    )\n",
    "trainer = pl.Trainer(\n",
    "        max_epochs=400,\n",
    "        accelerator='cuda' if torch.cuda.is_available() else 'cpu',\n",
    "        devices = 1,\n",
    "        callbacks=[checkpoint_callback, early_stopping_callback]\n",
    "    )"
   ]
  },
  {
   "cell_type": "code",
   "execution_count": 7,
   "metadata": {
    "collapsed": false
   },
   "outputs": [
    {
     "data": {
      "application/vnd.jupyter.widget-view+json": {
       "model_id": "1bfc783493fb40f49d4f6a25358f5711",
       "version_major": 2,
       "version_minor": 0
      },
      "text/plain": [
       "Predicting: 0it [00:00, ?it/s]"
      ]
     },
     "metadata": {},
     "output_type": "display_data"
    }
   ],
   "source": [
    "best_model_path = 'electricity_logs_0/epoch=1-step=164.ckpt'\n",
    "\n",
    "\n",
    "best_model = DeepGAR.load_from_checkpoint(\n",
    "    checkpoint_path=best_model_path\n",
    ")\n",
    "best_model.eval()\n",
    "res = trainer.predict(model=best_model, dataloaders=test_loader)"
   ]
  },
  {
   "cell_type": "code",
   "execution_count": 8,
   "metadata": {},
   "outputs": [
    {
     "ename": "TypeError",
     "evalue": "squeeze() got an unexpected keyword argument 'dim'",
     "output_type": "error",
     "traceback": [
      "\u001b[0;31m---------------------------------------------------------------------------\u001b[0m",
      "\u001b[0;31mTypeError\u001b[0m                                 Traceback (most recent call last)",
      "Cell \u001b[0;32mIn[8], line 2\u001b[0m\n\u001b[1;32m      1\u001b[0m \u001b[39mfrom\u001b[39;00m \u001b[39mutils\u001b[39;00m \u001b[39mimport\u001b[39;00m get_metrics\n\u001b[0;32m----> 2\u001b[0m get_metrics(res)\n",
      "File \u001b[0;32m~/Documents/GitHub/DeepGAR/utils.py:67\u001b[0m, in \u001b[0;36mget_metrics\u001b[0;34m(res)\u001b[0m\n\u001b[1;32m     65\u001b[0m \u001b[39mdef\u001b[39;00m \u001b[39mget_metrics\u001b[39m(res):\n\u001b[1;32m     66\u001b[0m     mus, sigmas, ys \u001b[39m=\u001b[39m decompose_results(res)\n\u001b[0;32m---> 67\u001b[0m     ys \u001b[39m=\u001b[39m ys\u001b[39m.\u001b[39;49msqueeze(dim\u001b[39m=\u001b[39;49m\u001b[39m0\u001b[39;49m)\n\u001b[1;32m     68\u001b[0m     mus \u001b[39m=\u001b[39m mus\u001b[39m.\u001b[39msqueeze(dim\u001b[39m=\u001b[39m\u001b[39m0\u001b[39m)\n\u001b[1;32m     69\u001b[0m     \u001b[39massert\u001b[39;00m ys\u001b[39m.\u001b[39mndim \u001b[39m==\u001b[39m \u001b[39m2\u001b[39m\n",
      "\u001b[0;31mTypeError\u001b[0m: squeeze() got an unexpected keyword argument 'dim'"
     ]
    }
   ],
   "source": [
    "from utils import get_metrics\n",
    "get_metrics(res)"
   ]
  },
  {
   "cell_type": "code",
   "execution_count": null,
   "metadata": {},
   "outputs": [],
   "source": []
  }
 ],
 "metadata": {
  "kernelspec": {
   "display_name": "Python 3",
   "language": "python",
   "name": "python3"
  },
  "language_info": {
   "codemirror_mode": {
    "name": "ipython",
    "version": 3
   },
   "file_extension": ".py",
   "mimetype": "text/x-python",
   "name": "python",
   "nbconvert_exporter": "python",
   "pygments_lexer": "ipython3",
   "version": "3.11.3"
  }
 },
 "nbformat": 4,
 "nbformat_minor": 0
}
