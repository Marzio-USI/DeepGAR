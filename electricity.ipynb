{
 "cells": [
  {
   "cell_type": "code",
   "execution_count": null,
   "metadata": {
    "collapsed": true,
    "is_executing": true
   },
   "outputs": [],
   "source": [
    "from datamodule.datamodule import *\n",
    "from distributions.distributions import *\n",
    "from utils import *\n",
    "# MODEL:\n",
    "from model.deepGARv1 import DeepGAR\n",
    "# PYTORCH LIGHTNING:\n",
    "import pytorch_lightning as pl\n",
    "import torch\n",
    "from pytorch_lightning.callbacks import ModelCheckpoint, EarlyStopping\n",
    "#"
   ]
  },
  {
   "cell_type": "code",
   "execution_count": 2,
   "outputs": [
    {
     "name": "stdout",
     "output_type": "stream",
     "text": [
      "ehi\n"
     ]
    },
    {
     "name": "stderr",
     "output_type": "stream",
     "text": [
      "LD2011_2014.txt.zip: 261MB [00:14, 17.9MB/s]                              \n"
     ]
    }
   ],
   "source": [
    "\n",
    "name = 'electric'  # electric\n",
    "train_size = 0.7\n",
    "validation_size = 0.15\n",
    "test_size = 0.15\n",
    "batch_size = 64\n",
    "custom_datamodule = DataModule(name, (train_size, validation_size, test_size), batch_size=batch_size)"
   ],
   "metadata": {
    "collapsed": false,
    "ExecuteTime": {
     "end_time": "2023-05-12T19:16:19.835204Z",
     "start_time": "2023-05-12T19:15:59.300869Z"
    }
   }
  },
  {
   "cell_type": "code",
   "execution_count": 3,
   "outputs": [],
   "source": [
    "train_window = 24\n",
    "test_window = 24\n",
    "test_horizon = 24\n",
    "test_stride = 24 # should be equal to the time horizon\n",
    "test_delay = 0\n",
    "train_loader, val_loader, test_loader = custom_datamodule.get_all(\n",
    "    window=train_window,\n",
    "    test_window=test_window,\n",
    "    test_horizon=test_horizon,\n",
    "    test_stride=test_stride,\n",
    "    test_delay=test_delay\n",
    ")"
   ],
   "metadata": {
    "collapsed": false,
    "ExecuteTime": {
     "end_time": "2023-05-12T19:16:20.702737Z",
     "start_time": "2023-05-12T19:16:19.835812Z"
    }
   }
  },
  {
   "cell_type": "code",
   "execution_count": null,
   "outputs": [],
   "source": [
    "input_size = custom_datamodule.get_channels()\n",
    "n_nodes = custom_datamodule.get_number_of_nodes()\n",
    "\n",
    "distribution = GaussianDistribution()  # or StudentTDistribution()\n",
    "\n",
    "test_loss = 'rmse'  # or 'mae'\n",
    "\n",
    "perform_scaling = False"
   ],
   "metadata": {
    "collapsed": false
   }
  },
  {
   "cell_type": "code",
   "execution_count": null,
   "outputs": [],
   "source": [
    "def run_model(run, train=False):\n",
    "\n",
    "    model = DeepGAR(\n",
    "        input_size=input_size,\n",
    "        n_nodes=n_nodes,\n",
    "        distribution=distribution,\n",
    "        test_loss=test_loss,\n",
    "        perform_scaling=perform_scaling\n",
    "    )\n",
    "    print(model)\n",
    "    print_model_size(model)\n",
    "\n",
    "    early_stopping_callback = EarlyStopping(\n",
    "        monitor='val_loss',\n",
    "        min_delta=0.00,\n",
    "        patience=20,\n",
    "        mode='min'\n",
    "    )\n",
    "    checkpoint_callback = ModelCheckpoint(\n",
    "        dirpath=f'electricity_logs_{run}',\n",
    "        save_top_k=1,\n",
    "        monitor='val_loss',\n",
    "        mode='min',\n",
    "    )\n",
    "    trainer = pl.Trainer(\n",
    "        max_epochs=400,\n",
    "        accelerator='cuda' if torch.cuda.is_available() else 'cpu',\n",
    "        devices = 1,\n",
    "        callbacks=[checkpoint_callback, early_stopping_callback]\n",
    "    )\n",
    "    if trainer:\n",
    "        trainer.fit(model=model, train_dataloaders=train_loader, val_dataloaders=val_loader)\n",
    "    # delete all\n",
    "    try:\n",
    "        del model\n",
    "        del early_stopping_callback\n",
    "        del checkpoint_callback\n",
    "        del trainer\n",
    "    except:\n",
    "        pass\n",
    "\n",
    "\n",
    "# list_available_models()"
   ],
   "metadata": {
    "collapsed": false
   }
  },
  {
   "cell_type": "code",
   "execution_count": null,
   "outputs": [],
   "source": [
    "train_n_times=1\n",
    "for i in range(train_n_times):\n",
    "    run_model(i, train=False)"
   ],
   "metadata": {
    "collapsed": false
   }
  },
  {
   "cell_type": "code",
   "execution_count": null,
   "outputs": [],
   "source": [
    "# TESTING"
   ],
   "metadata": {
    "collapsed": false
   }
  },
  {
   "cell_type": "code",
   "execution_count": null,
   "outputs": [],
   "source": [
    "best_model_path = checkpoint_callback.best_model_path\n",
    "print(best_model_path)\n",
    "\n",
    "best_model = DeepGAR.load_from_checkpoint(\n",
    "    checkpoint_path=best_model_path\n",
    ")\n",
    "best_model.eval()\n",
    "res = trainer.predict(model=best_model, dataloaders=test_loader)"
   ],
   "metadata": {
    "collapsed": false
   }
  }
 ],
 "metadata": {
  "kernelspec": {
   "display_name": "Python 3",
   "language": "python",
   "name": "python3"
  },
  "language_info": {
   "codemirror_mode": {
    "name": "ipython",
    "version": 2
   },
   "file_extension": ".py",
   "mimetype": "text/x-python",
   "name": "python",
   "nbconvert_exporter": "python",
   "pygments_lexer": "ipython2",
   "version": "2.7.6"
  }
 },
 "nbformat": 4,
 "nbformat_minor": 0
}
