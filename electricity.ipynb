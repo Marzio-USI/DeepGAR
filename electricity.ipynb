{
 "cells": [
  {
   "cell_type": "code",
   "execution_count": 7,
   "metadata": {
    "collapsed": true,
    "is_executing": true
   },
   "outputs": [],
   "source": [
    "from datamodule.datamodule import *\n",
    "from distributions.distributions import *\n",
    "from utils import *\n",
    "# MODEL:\n",
    "from model.deepGARv1 import DeepGAR\n",
    "# PYTORCH LIGHTNING:\n",
    "import pytorch_lightning as pl\n",
    "import torch\n",
    "from pytorch_lightning.callbacks import ModelCheckpoint, EarlyStopping\n",
    "#"
   ]
  },
  {
   "cell_type": "code",
   "execution_count": 8,
   "metadata": {
    "ExecuteTime": {
     "end_time": "2023-05-12T19:16:19.835204Z",
     "start_time": "2023-05-12T19:15:59.300869Z"
    },
    "collapsed": false
   },
   "outputs": [],
   "source": [
    "\n",
    "name = 'electric'  # electric\n",
    "train_size = 0.7\n",
    "validation_size = 0.15\n",
    "test_size = 0.15\n",
    "batch_size = 64\n",
    "custom_datamodule = DataModule(name, (train_size, validation_size, test_size), batch_size=batch_size)"
   ]
  },
  {
   "cell_type": "code",
   "execution_count": 9,
   "metadata": {
    "ExecuteTime": {
     "end_time": "2023-05-12T19:16:20.702737Z",
     "start_time": "2023-05-12T19:16:19.835812Z"
    },
    "collapsed": false
   },
   "outputs": [
    {
     "name": "stdout",
     "output_type": "stream",
     "text": [
      "Train (5249, 370), val (584, 370), test (192, 370). ORIGINAL (6025, 370)\n"
     ]
    }
   ],
   "source": [
    "train_window = 24\n",
    "test_window = 24\n",
    "test_horizon = 24\n",
    "test_stride = 24 # should be equal to the time horizon\n",
    "test_delay = 0\n",
    "train_loader, val_loader, test_loader = custom_datamodule.get_all(\n",
    "    window=train_window,\n",
    "    test_window=test_window,\n",
    "    test_horizon=test_horizon,\n",
    "    test_stride=test_stride,\n",
    "    test_delay=test_delay\n",
    ")"
   ]
  },
  {
   "cell_type": "code",
   "execution_count": 10,
   "metadata": {
    "collapsed": false
   },
   "outputs": [],
   "source": [
    "input_size = custom_datamodule.get_channels()\n",
    "n_nodes = custom_datamodule.get_number_of_nodes()\n",
    "\n",
    "distribution = GaussianDistribution()  # or StudentTDistribution()\n",
    "\n",
    "test_loss = 'rmse'  # or 'mae'\n",
    "\n",
    "perform_scaling = False"
   ]
  },
  {
   "cell_type": "code",
   "execution_count": 11,
   "metadata": {
    "collapsed": false
   },
   "outputs": [],
   "source": [
    "\n",
    "def run_model(run, train=False, testing=True, checkpoint_callback_path:str=None):\n",
    "   \n",
    "    model = DeepGAR(\n",
    "        input_size=input_size,\n",
    "        n_nodes=n_nodes,\n",
    "        distribution=distribution,\n",
    "        test_loss=test_loss,\n",
    "        perform_scaling=perform_scaling\n",
    "    )\n",
    "    print(model)\n",
    "    print_model_size(model)\n",
    "\n",
    "    early_stopping_callback = EarlyStopping(\n",
    "        monitor='val_loss',\n",
    "        min_delta=0.00,\n",
    "        patience=20,\n",
    "        mode='min'\n",
    "    )\n",
    "    checkpoint_callback = ModelCheckpoint(\n",
    "        dirpath=f'electricity_logs_{run}',\n",
    "        save_top_k=1,\n",
    "        monitor='val_loss',\n",
    "        mode='min',\n",
    "    )\n",
    "    trainer = pl.Trainer(\n",
    "        max_epochs=400,\n",
    "        accelerator='cuda' if torch.cuda.is_available() else 'cpu',\n",
    "        devices = 1,\n",
    "        callbacks=[checkpoint_callback, early_stopping_callback]\n",
    "    )\n",
    "    if train:\n",
    "        trainer.fit(model=model, train_dataloaders=train_loader, val_dataloaders=val_loader)\n",
    "    # delete all\n",
    "    if testing:\n",
    "        best_model_path = checkpoint_callback.best_model_path\n",
    "        if len(best_model_path) < 1 and checkpoint_callback_path is None:\n",
    "            raise RuntimeError(f'failed to locate best model checkpoint path. Stopping at run {run}')\n",
    "        elif len(best_model_path) < 1:\n",
    "            best_model_path= checkpoint_callback_path\n",
    "        best_model = DeepGAR.load_from_checkpoint(\n",
    "        checkpoint_path=best_model_path\n",
    "        )\n",
    "        best_model.eval()\n",
    "        res = trainer.predict(model=best_model, dataloaders=test_loader)\n",
    "        rmse_loss, nd_loss = get_metrics(res, horizon=test_horizon, n_nodes=n_nodes)\n",
    "        print(f'Run {run} on {name}: RMSE: {rmse_loss}, ND: {nd_loss}')\n",
    "        add_metrics(name, rmse_loss, nd_loss)\n",
    "\n",
    "    \n",
    "    try:\n",
    "        del model\n",
    "        del early_stopping_callback\n",
    "        del checkpoint_callback\n",
    "        del trainer\n",
    "        if testing:\n",
    "            del best_model\n",
    "    except:\n",
    "        pass\n",
    "    return res\n",
    "    \n",
    "\n",
    "\n",
    "# list_available_models()"
   ]
  },
  {
   "cell_type": "code",
   "execution_count": 12,
   "metadata": {
    "collapsed": false
   },
   "outputs": [
    {
     "name": "stderr",
     "output_type": "stream",
     "text": [
      "GPU available: True (mps), used: False\n",
      "TPU available: False, using: 0 TPU cores\n",
      "IPU available: False, using: 0 IPUs\n",
      "HPU available: False, using: 0 HPUs\n"
     ]
    },
    {
     "name": "stdout",
     "output_type": "stream",
     "text": [
      "DeepGAR(\n",
      "  (train_loss_fn): NLL()\n",
      "  (test_loss_fn): RMSE()\n",
      "  (distribution_sigma): Softplus(beta=1, threshold=20)\n",
      "  (encoder): Linear(in_features=1, out_features=32, bias=True)\n",
      "  (node_embeddings): NodeEmbedding(n_nodes=370, embedding_size=32)\n",
      "  (time): MultiLSTMCell(hidden_size=32)\n",
      "  (space_time): GraphConvLSTMCell(hidden_size=32)\n",
      "  (distribution_mu): Linear(in_features=32, out_features=1, bias=True)\n",
      "  (distribution_presigma): Linear(in_features=32, out_features=1, bias=True)\n",
      ")\n",
      "===============================================\n",
      "Number of model (DeepGAR) parameters:   3106882\n"
     ]
    },
    {
     "name": "stderr",
     "output_type": "stream",
     "text": [
      "/Users/marziolunghi/Documents/GitHub/DeepGAR/venv/lib/python3.11/site-packages/pytorch_lightning/trainer/setup.py:200: UserWarning: MPS available but not used. Set `accelerator` and `devices` using `Trainer(accelerator='mps', devices=1)`.\n",
      "  rank_zero_warn(\n"
     ]
    },
    {
     "data": {
      "application/vnd.jupyter.widget-view+json": {
       "model_id": "42fba0db71e94d35a36b9976e282f402",
       "version_major": 2,
       "version_minor": 0
      },
      "text/plain": [
       "Predicting: 0it [00:00, ?it/s]"
      ]
     },
     "metadata": {},
     "output_type": "display_data"
    },
    {
     "name": "stdout",
     "output_type": "stream",
     "text": [
      "(1, 370, 168)\n",
      "(1, 370, 168)\n",
      "(370, 168)\n",
      "(370, 168)\n",
      "Run 0 on electric: RMSE: 1.259571826498458, ND: 0.34057238698005676\n"
     ]
    }
   ],
   "source": [
    "results = []\n",
    "train_n_times = 1\n",
    "for i in range(train_n_times):\n",
    "    res = run_model(i, train=False, checkpoint_callback_path='elec_copy/electricity_logs_0/epoch=398-step=32718.ckpt')\n",
    "    results.append(res)"
   ]
  },
  {
   "cell_type": "code",
   "execution_count": null,
   "metadata": {},
   "outputs": [],
   "source": []
  }
 ],
 "metadata": {
  "kernelspec": {
   "display_name": "Python 3",
   "language": "python",
   "name": "python3"
  },
  "language_info": {
   "codemirror_mode": {
    "name": "ipython",
    "version": 3
   },
   "file_extension": ".py",
   "mimetype": "text/x-python",
   "name": "python",
   "nbconvert_exporter": "python",
   "pygments_lexer": "ipython3",
   "version": "3.11.3"
  }
 },
 "nbformat": 4,
 "nbformat_minor": 0
}
