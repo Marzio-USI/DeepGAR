{
 "cells": [
  {
   "cell_type": "code",
   "execution_count": null,
   "metadata": {
    "ExecuteTime": {
     "end_time": "2023-05-11T19:55:16.662279Z",
     "start_time": "2023-05-11T19:55:16.644221Z"
    },
    "tags": []
   },
   "outputs": [],
   "source": [
    "from datamodule.datamodule_old import DataModule\n",
    "from distributions.distributions import *\n",
    "from utils import print_model_size, list_available_models, draw, draw_single"
   ]
  },
  {
   "cell_type": "markdown",
   "metadata": {},
   "source": [
    "# Dataset\n",
    "- you have to specify each param of the dataset"
   ]
  },
  {
   "cell_type": "code",
   "execution_count": null,
   "metadata": {
    "ExecuteTime": {
     "end_time": "2023-05-11T19:55:16.729413Z",
     "start_time": "2023-05-11T19:55:16.652563Z"
    },
    "tags": []
   },
   "outputs": [],
   "source": [
    "name = \"electric\" # 'exchange'\n",
    "train_size = 0.7\n",
    "validation_size = 0.15\n",
    "test_size = 0.15\n",
    "custom_datamodule = DataModule(name, (train_size, validation_size, test_size))"
   ]
  },
  {
   "cell_type": "code",
   "execution_count": null,
   "metadata": {
    "ExecuteTime": {
     "end_time": "2023-05-11T19:55:16.755799Z",
     "start_time": "2023-05-11T19:55:16.731313Z"
    },
    "tags": []
   },
   "outputs": [],
   "source": [
    "train_window = 24\n",
    "test_window = 24\n",
    "test_horizon = 4\n",
    "test_stride = 4 # should be equal to the time horizon \n",
    "test_delay = 0\n",
    "train_dm, test_dataloader = custom_datamodule.get_all(\n",
    "    window=train_window,\n",
    "    test_window=test_window,\n",
    "    test_horizon=test_horizon,\n",
    "    test_stride=test_stride,\n",
    "    test_delay=test_delay\n",
    ")"
   ]
  },
  {
   "cell_type": "markdown",
   "metadata": {},
   "source": [
    "# Model\n",
    "you have to specify:\n",
    "- model parameters such as number of nodes and number of feature\n",
    "- distribution: Gaussian or StudentT\n",
    "- loss\n",
    "- perform scaling\n",
    "- additional parameters if needed"
   ]
  },
  {
   "cell_type": "code",
   "execution_count": null,
   "metadata": {
    "ExecuteTime": {
     "end_time": "2023-05-11T19:55:16.772276Z",
     "start_time": "2023-05-11T19:55:16.770443Z"
    },
    "tags": []
   },
   "outputs": [],
   "source": [
    "input_size = custom_datamodule.get_channels()\n",
    "n_nodes = custom_datamodule.get_number_of_nodes()\n",
    "\n",
    "distribution = GaussianDistribution()  # or StudentTDistribution()\n",
    "\n",
    "test_loss = 'rmse'  # or 'mae'\n",
    "\n",
    "perform_scaling = True\n"
   ]
  },
  {
   "cell_type": "code",
   "execution_count": null,
   "metadata": {
    "ExecuteTime": {
     "end_time": "2023-05-11T19:55:16.785839Z",
     "start_time": "2023-05-11T19:55:16.773194Z"
    },
    "tags": []
   },
   "outputs": [],
   "source": [
    "from model.net import BaseModelDeepGar\n",
    "from model.deepGARv2 import DeepGAR\n",
    "\n",
    "model = DeepGAR(\n",
    "    input_size=input_size,\n",
    "    n_nodes=n_nodes,\n",
    "    distribution=distribution,\n",
    "    test_loss=test_loss,\n",
    "    perform_scaling=perform_scaling\n",
    ")\n",
    "\n",
    "# list_available_models()"
   ]
  },
  {
   "cell_type": "code",
   "execution_count": null,
   "metadata": {
    "ExecuteTime": {
     "end_time": "2023-05-11T19:55:16.786270Z",
     "start_time": "2023-05-11T19:55:16.783748Z"
    },
    "tags": []
   },
   "outputs": [],
   "source": [
    "print(model)\n",
    "print_model_size(model)"
   ]
  },
  {
   "cell_type": "markdown",
   "metadata": {},
   "source": [
    "# Trainer"
   ]
  },
  {
   "cell_type": "code",
   "execution_count": null,
   "metadata": {
    "ExecuteTime": {
     "end_time": "2023-05-11T19:55:16.837260Z",
     "start_time": "2023-05-11T19:55:16.787303Z"
    },
    "tags": []
   },
   "outputs": [],
   "source": [
    "import pytorch_lightning as pl\n",
    "import torch\n",
    "from pytorch_lightning.callbacks import ModelCheckpoint, EarlyStopping\n",
    "\n",
    "early_stopping_callback = EarlyStopping(\n",
    "    monitor='val_loss',\n",
    "    min_delta=0.00,\n",
    "    patience=20,\n",
    "    mode='min'\n",
    ")\n",
    "checkpoint_callback = ModelCheckpoint(\n",
    "    dirpath='logs2',\n",
    "    save_top_k=1,\n",
    "    monitor='val_loss',\n",
    "    mode='min',\n",
    ")\n",
    "trainer = pl.Trainer(\n",
    "    max_epochs=400,\n",
    "    accelerator='cuda' if torch.cuda.is_available() else 'cpu',\n",
    "    devices = 1,\n",
    "    callbacks=[checkpoint_callback, early_stopping_callback]\n",
    ")"
   ]
  },
  {
   "cell_type": "markdown",
   "metadata": {},
   "source": [
    "# Training"
   ]
  },
  {
   "cell_type": "code",
   "execution_count": null,
   "metadata": {
    "tags": []
   },
   "outputs": [],
   "source": [
    "if True:\n",
    "    trainer.fit(model=model, datamodule=train_dm)"
   ]
  },
  {
   "cell_type": "markdown",
   "metadata": {},
   "source": [
    "# Testing"
   ]
  },
  {
   "cell_type": "code",
   "execution_count": null,
   "metadata": {
    "tags": []
   },
   "outputs": [],
   "source": [
    "best_model_path = 'logs2/epoch=1-step=1184.ckpt'\n",
    "\n",
    "best_model = DeepGAR.load_from_checkpoint(\n",
    "    checkpoint_path=best_model_path\n",
    ")\n",
    "best_model.eval()\n",
    "res = trainer.predict(model=best_model, dataloaders=test_dataloader)"
   ]
  },
  {
   "cell_type": "code",
   "execution_count": null,
   "metadata": {},
   "outputs": [],
   "source": []
  },
  {
   "cell_type": "markdown",
   "metadata": {},
   "source": [
    "# Draw + errors"
   ]
  },
  {
   "cell_type": "code",
   "execution_count": null,
   "metadata": {
    "tags": []
   },
   "outputs": [],
   "source": [
    "draw(res)"
   ]
  },
  {
   "cell_type": "code",
   "execution_count": null,
   "metadata": {
    "tags": []
   },
   "outputs": [],
   "source": [
    "interval =int(100/4)\n",
    "draw(res[:interval])"
   ]
  },
  {
   "cell_type": "code",
   "execution_count": null,
   "metadata": {},
   "outputs": [],
   "source": []
  }
 ],
 "metadata": {
  "kernelspec": {
   "display_name": "Python 3 (ipykernel)",
   "language": "python",
   "name": "python3"
  },
  "language_info": {
   "codemirror_mode": {
    "name": "ipython",
    "version": 3
   },
   "file_extension": ".py",
   "mimetype": "text/x-python",
   "name": "python",
   "nbconvert_exporter": "python",
   "pygments_lexer": "ipython3",
   "version": "3.11.3"
  }
 },
 "nbformat": 4,
 "nbformat_minor": 4
}
