{
 "cells": [
  {
   "cell_type": "code",
   "execution_count": null,
   "metadata": {},
   "outputs": [],
   "source": [
    "from datamodule.datamodule import *\n",
    "from distributions.distributions import *\n",
    "from utils import *\n",
    "# MODEL:\n",
    "from model.deepGARv2 import DeepGAR\n",
    "# PYTORCH LIGHTNING:\n",
    "import pytorch_lightning as pl\n",
    "import torch\n",
    "from pytorch_lightning.callbacks import ModelCheckpoint, EarlyStopping\n",
    "#"
   ]
  },
  {
   "cell_type": "code",
   "execution_count": null,
   "metadata": {},
   "outputs": [],
   "source": [
    "\n",
    "name = 'electric'  # electric\n",
    "train_size = 0.7\n",
    "validation_size = 0.15\n",
    "test_size = 0.15\n",
    "batch_size = 32\n",
    "custom_datamodule = DataModule(name, (train_size, validation_size, test_size), batch_size=batch_size)"
   ]
  },
  {
   "cell_type": "code",
   "execution_count": null,
   "metadata": {},
   "outputs": [],
   "source": [
    "train_window = 168\n",
    "test_window = 168\n",
    "test_horizon = 24\n",
    "test_stride = 24 # should be equal to the time horizon\n",
    "test_delay = 0\n",
    "train_loader, val_loader, test_loader = custom_datamodule.get_all(\n",
    "    window=train_window,\n",
    "    test_window=test_window,\n",
    "    test_horizon=test_horizon,\n",
    "    test_stride=test_stride,\n",
    "    test_delay=test_delay\n",
    ")"
   ]
  },
  {
   "cell_type": "code",
   "execution_count": null,
   "metadata": {},
   "outputs": [],
   "source": [
    "input_size = custom_datamodule.get_channels()\n",
    "n_nodes = custom_datamodule.get_number_of_nodes()\n",
    "\n",
    "distribution = GaussianDistribution()  # or StudentTDistribution()\n",
    "\n",
    "perform_scaling = False"
   ]
  },
  {
   "cell_type": "code",
   "execution_count": null,
   "metadata": {},
   "outputs": [],
   "source": [
    "\n",
    "def run_model(run, train=False, testing=True, checkpoint_callback_path:str=None, tuning=False):\n",
    "   \n",
    "    model = DeepGAR(\n",
    "        input_size=input_size,\n",
    "        n_nodes=n_nodes,\n",
    "        distribution=distribution,\n",
    "        perform_scaling=perform_scaling\n",
    "    )\n",
    "    print(model)\n",
    "    print_model_size(model)\n",
    "\n",
    "    early_stopping_callback = EarlyStopping(\n",
    "        monitor='val_loss',\n",
    "        min_delta=0.00,\n",
    "        patience=20,\n",
    "        mode='min'\n",
    "    )\n",
    "    checkpoint_callback = ModelCheckpoint(\n",
    "        dirpath=f'electricity_logs_v2_{run}',\n",
    "        save_top_k=1,\n",
    "        monitor='val_loss',\n",
    "        mode='min',\n",
    "    )\n",
    "    trainer = pl.Trainer(\n",
    "        max_epochs=1000,\n",
    "        accelerator='cpu',\n",
    "        devices = 1,\n",
    "        callbacks=[checkpoint_callback, early_stopping_callback],\n",
    "        log_every_n_steps=100,\n",
    "    )\n",
    "\n",
    "    if train:\n",
    "        trainer.fit(model=model, train_dataloaders=train_loader, val_dataloaders=val_loader)\n",
    "    if testing:\n",
    "        best_model_path = checkpoint_callback.best_model_path\n",
    "        if len(best_model_path) < 1 and checkpoint_callback_path is None:\n",
    "            raise RuntimeError(f'failed to locate best model checkpoint path. Stopping at run {run}')\n",
    "        elif len(best_model_path) < 1:\n",
    "            best_model_path= checkpoint_callback_path\n",
    "        best_model = DeepGAR.load_from_checkpoint(\n",
    "        checkpoint_path=best_model_path\n",
    "        )\n",
    "        print(f'Using checkpoint {best_model_path}')\n",
    "        best_model.eval()\n",
    "        res = trainer.predict(model=best_model, dataloaders=test_loader)\n",
    "        rmse_loss, nd_loss = get_metrics(res, horizon=test_horizon, n_nodes=n_nodes)\n",
    "        print(f'Run {run} on {name}: RMSE: {rmse_loss}, ND: {nd_loss}')\n",
    "        add_metrics(f'{name}_v2', rmse_loss, nd_loss)\n",
    "\n",
    "    \n",
    "    try:\n",
    "        del model\n",
    "        del early_stopping_callback\n",
    "        del checkpoint_callback\n",
    "        del trainer\n",
    "        if testing:\n",
    "            del best_model\n",
    "    except:\n",
    "        pass\n",
    "    return res\n",
    "    \n",
    "\n",
    "\n",
    "# list_available_models()"
   ]
  },
  {
   "cell_type": "code",
   "execution_count": null,
   "metadata": {},
   "outputs": [],
   "source": [
    "train_n_times = 1\n",
    "for i in range(train_n_times):\n",
    "    run_model(i, train=True, testing=True)"
   ]
  }
 ],
 "metadata": {
  "language_info": {
   "name": "python"
  },
  "orig_nbformat": 4
 },
 "nbformat": 4,
 "nbformat_minor": 2
}
